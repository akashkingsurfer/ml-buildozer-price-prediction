{
 "cells": [
  {
   "cell_type": "markdown",
   "metadata": {},
   "source": [
    "## Predicting buildozer prices using machine learning\n",
    "\n",
    "### dataset\n",
    "\n",
    "this dataset is obtained from kaggle,you can check it here\n",
    "https://www.kaggle.com/c/bluebook-for-bulldozers/overview\n",
    "\n",
    "### Features\n",
    "\n",
    "definition for all features are present in the data dictionary excel sheet, which is on the root directory"
   ]
  },
  {
   "cell_type": "code",
   "execution_count": 1,
   "metadata": {},
   "outputs": [],
   "source": [
    "#importing our tools\n",
    "import pandas as pd\n",
    "import numpy as np\n",
    "from matplotlib import pyplot as plt\n",
    "import seaborn as sns"
   ]
  },
  {
   "cell_type": "code",
   "execution_count": 2,
   "metadata": {},
   "outputs": [
    {
     "data": {
      "text/html": [
       "<div>\n",
       "<style scoped>\n",
       "    .dataframe tbody tr th:only-of-type {\n",
       "        vertical-align: middle;\n",
       "    }\n",
       "\n",
       "    .dataframe tbody tr th {\n",
       "        vertical-align: top;\n",
       "    }\n",
       "\n",
       "    .dataframe thead th {\n",
       "        text-align: right;\n",
       "    }\n",
       "</style>\n",
       "<table border=\"1\" class=\"dataframe\">\n",
       "  <thead>\n",
       "    <tr style=\"text-align: right;\">\n",
       "      <th></th>\n",
       "      <th>SalesID</th>\n",
       "      <th>SalePrice</th>\n",
       "      <th>MachineID</th>\n",
       "      <th>ModelID</th>\n",
       "      <th>datasource</th>\n",
       "      <th>auctioneerID</th>\n",
       "      <th>YearMade</th>\n",
       "      <th>MachineHoursCurrentMeter</th>\n",
       "      <th>UsageBand</th>\n",
       "      <th>saledate</th>\n",
       "      <th>...</th>\n",
       "      <th>Undercarriage_Pad_Width</th>\n",
       "      <th>Stick_Length</th>\n",
       "      <th>Thumb</th>\n",
       "      <th>Pattern_Changer</th>\n",
       "      <th>Grouser_Type</th>\n",
       "      <th>Backhoe_Mounting</th>\n",
       "      <th>Blade_Type</th>\n",
       "      <th>Travel_Controls</th>\n",
       "      <th>Differential_Type</th>\n",
       "      <th>Steering_Controls</th>\n",
       "    </tr>\n",
       "  </thead>\n",
       "  <tbody>\n",
       "    <tr>\n",
       "      <th>0</th>\n",
       "      <td>1139246</td>\n",
       "      <td>66000</td>\n",
       "      <td>999089</td>\n",
       "      <td>3157</td>\n",
       "      <td>121</td>\n",
       "      <td>3.0</td>\n",
       "      <td>2004</td>\n",
       "      <td>68.0</td>\n",
       "      <td>Low</td>\n",
       "      <td>11/16/2006 0:00</td>\n",
       "      <td>...</td>\n",
       "      <td>NaN</td>\n",
       "      <td>NaN</td>\n",
       "      <td>NaN</td>\n",
       "      <td>NaN</td>\n",
       "      <td>NaN</td>\n",
       "      <td>NaN</td>\n",
       "      <td>NaN</td>\n",
       "      <td>NaN</td>\n",
       "      <td>Standard</td>\n",
       "      <td>Conventional</td>\n",
       "    </tr>\n",
       "    <tr>\n",
       "      <th>1</th>\n",
       "      <td>1139248</td>\n",
       "      <td>57000</td>\n",
       "      <td>117657</td>\n",
       "      <td>77</td>\n",
       "      <td>121</td>\n",
       "      <td>3.0</td>\n",
       "      <td>1996</td>\n",
       "      <td>4640.0</td>\n",
       "      <td>Low</td>\n",
       "      <td>3/26/2004 0:00</td>\n",
       "      <td>...</td>\n",
       "      <td>NaN</td>\n",
       "      <td>NaN</td>\n",
       "      <td>NaN</td>\n",
       "      <td>NaN</td>\n",
       "      <td>NaN</td>\n",
       "      <td>NaN</td>\n",
       "      <td>NaN</td>\n",
       "      <td>NaN</td>\n",
       "      <td>Standard</td>\n",
       "      <td>Conventional</td>\n",
       "    </tr>\n",
       "    <tr>\n",
       "      <th>2</th>\n",
       "      <td>1139249</td>\n",
       "      <td>10000</td>\n",
       "      <td>434808</td>\n",
       "      <td>7009</td>\n",
       "      <td>121</td>\n",
       "      <td>3.0</td>\n",
       "      <td>2001</td>\n",
       "      <td>2838.0</td>\n",
       "      <td>High</td>\n",
       "      <td>2/26/2004 0:00</td>\n",
       "      <td>...</td>\n",
       "      <td>NaN</td>\n",
       "      <td>NaN</td>\n",
       "      <td>NaN</td>\n",
       "      <td>NaN</td>\n",
       "      <td>NaN</td>\n",
       "      <td>NaN</td>\n",
       "      <td>NaN</td>\n",
       "      <td>NaN</td>\n",
       "      <td>NaN</td>\n",
       "      <td>NaN</td>\n",
       "    </tr>\n",
       "    <tr>\n",
       "      <th>3</th>\n",
       "      <td>1139251</td>\n",
       "      <td>38500</td>\n",
       "      <td>1026470</td>\n",
       "      <td>332</td>\n",
       "      <td>121</td>\n",
       "      <td>3.0</td>\n",
       "      <td>2001</td>\n",
       "      <td>3486.0</td>\n",
       "      <td>High</td>\n",
       "      <td>5/19/2011 0:00</td>\n",
       "      <td>...</td>\n",
       "      <td>NaN</td>\n",
       "      <td>NaN</td>\n",
       "      <td>NaN</td>\n",
       "      <td>NaN</td>\n",
       "      <td>NaN</td>\n",
       "      <td>NaN</td>\n",
       "      <td>NaN</td>\n",
       "      <td>NaN</td>\n",
       "      <td>NaN</td>\n",
       "      <td>NaN</td>\n",
       "    </tr>\n",
       "    <tr>\n",
       "      <th>4</th>\n",
       "      <td>1139253</td>\n",
       "      <td>11000</td>\n",
       "      <td>1057373</td>\n",
       "      <td>17311</td>\n",
       "      <td>121</td>\n",
       "      <td>3.0</td>\n",
       "      <td>2007</td>\n",
       "      <td>722.0</td>\n",
       "      <td>Medium</td>\n",
       "      <td>7/23/2009 0:00</td>\n",
       "      <td>...</td>\n",
       "      <td>NaN</td>\n",
       "      <td>NaN</td>\n",
       "      <td>NaN</td>\n",
       "      <td>NaN</td>\n",
       "      <td>NaN</td>\n",
       "      <td>NaN</td>\n",
       "      <td>NaN</td>\n",
       "      <td>NaN</td>\n",
       "      <td>NaN</td>\n",
       "      <td>NaN</td>\n",
       "    </tr>\n",
       "  </tbody>\n",
       "</table>\n",
       "<p>5 rows × 53 columns</p>\n",
       "</div>"
      ],
      "text/plain": [
       "   SalesID  SalePrice  MachineID  ModelID  datasource  auctioneerID  YearMade  \\\n",
       "0  1139246      66000     999089     3157         121           3.0      2004   \n",
       "1  1139248      57000     117657       77         121           3.0      1996   \n",
       "2  1139249      10000     434808     7009         121           3.0      2001   \n",
       "3  1139251      38500    1026470      332         121           3.0      2001   \n",
       "4  1139253      11000    1057373    17311         121           3.0      2007   \n",
       "\n",
       "   MachineHoursCurrentMeter UsageBand         saledate  ...  \\\n",
       "0                      68.0       Low  11/16/2006 0:00  ...   \n",
       "1                    4640.0       Low   3/26/2004 0:00  ...   \n",
       "2                    2838.0      High   2/26/2004 0:00  ...   \n",
       "3                    3486.0      High   5/19/2011 0:00  ...   \n",
       "4                     722.0    Medium   7/23/2009 0:00  ...   \n",
       "\n",
       "  Undercarriage_Pad_Width Stick_Length Thumb Pattern_Changer Grouser_Type  \\\n",
       "0                     NaN          NaN   NaN             NaN          NaN   \n",
       "1                     NaN          NaN   NaN             NaN          NaN   \n",
       "2                     NaN          NaN   NaN             NaN          NaN   \n",
       "3                     NaN          NaN   NaN             NaN          NaN   \n",
       "4                     NaN          NaN   NaN             NaN          NaN   \n",
       "\n",
       "  Backhoe_Mounting Blade_Type Travel_Controls Differential_Type  \\\n",
       "0              NaN        NaN             NaN          Standard   \n",
       "1              NaN        NaN             NaN          Standard   \n",
       "2              NaN        NaN             NaN               NaN   \n",
       "3              NaN        NaN             NaN               NaN   \n",
       "4              NaN        NaN             NaN               NaN   \n",
       "\n",
       "  Steering_Controls  \n",
       "0      Conventional  \n",
       "1      Conventional  \n",
       "2               NaN  \n",
       "3               NaN  \n",
       "4               NaN  \n",
       "\n",
       "[5 rows x 53 columns]"
      ]
     },
     "execution_count": 2,
     "metadata": {},
     "output_type": "execute_result"
    }
   ],
   "source": [
    "#loading our buildozer data\n",
    "data = pd.read_csv('buildozer_data.csv')\n",
    "data.head()"
   ]
  },
  {
   "cell_type": "code",
   "execution_count": 3,
   "metadata": {},
   "outputs": [
    {
     "data": {
      "text/plain": [
       "SalesID                        0\n",
       "SalePrice                      0\n",
       "MachineID                      0\n",
       "ModelID                        0\n",
       "datasource                     0\n",
       "auctioneerID                   0\n",
       "YearMade                       0\n",
       "MachineHoursCurrentMeter       0\n",
       "UsageBand                    634\n",
       "saledate                       0\n",
       "fiModelDesc                    0\n",
       "fiBaseModel                    0\n",
       "fiSecondaryDesc             1731\n",
       "fiModelSeries               4318\n",
       "fiModelDescriptor           3802\n",
       "ProductSize                 2708\n",
       "fiProductClassDesc             0\n",
       "state                          0\n",
       "ProductGroup                   0\n",
       "ProductGroupDesc               0\n",
       "Drive_System                3877\n",
       "Enclosure                      3\n",
       "Forks                       2443\n",
       "Pad_Type                    4153\n",
       "Ride_Control                3313\n",
       "Stick                       4153\n",
       "Transmission                3037\n",
       "Turbocharged                4153\n",
       "Blade_Extension             4727\n",
       "Blade_Width                 4727\n",
       "Enclosure_Type              4727\n",
       "Engine_Horsepower           4727\n",
       "Hydraulics                   865\n",
       "Pushblock                   4727\n",
       "Ripper                      3891\n",
       "Scarifier                   4727\n",
       "Tip_Control                 4727\n",
       "Tire_Size                   3889\n",
       "Coupler                     2003\n",
       "Coupler_System              4131\n",
       "Grouser_Tracks              4133\n",
       "Hydraulics_Flow             4133\n",
       "Track_Type                  3726\n",
       "Undercarriage_Pad_Width     3716\n",
       "Stick_Length                3726\n",
       "Thumb                       3725\n",
       "Pattern_Changer             3726\n",
       "Grouser_Type                3726\n",
       "Backhoe_Mounting            4167\n",
       "Blade_Type                  4156\n",
       "Travel_Controls             4157\n",
       "Differential_Type           4164\n",
       "Steering_Controls           4164\n",
       "dtype: int64"
      ]
     },
     "execution_count": 3,
     "metadata": {},
     "output_type": "execute_result"
    }
   ],
   "source": [
    "#check how many missing values does our dataframe have\n",
    "data.isna().sum()"
   ]
  },
  {
   "cell_type": "code",
   "execution_count": 4,
   "metadata": {},
   "outputs": [
    {
     "data": {
      "image/png": "[encoded data removed]",
      "text/plain": [
       "<Figure size 432x288 with 1 Axes>"
      ]
     },
     "metadata": {
      "needs_background": "light"
     },
     "output_type": "display_data"
    }
   ],
   "source": [
    "data[\"SalePrice\"].plot.hist();"
   ]
  },
  {
   "cell_type": "markdown",
   "metadata": {},
   "source": [
    "### Parsing Dates\n",
    "\n",
    "* When we work with time series data, we want to enrich time and date component as much as possible\n",
    "* We can tell it to pandas which of our column has date and times by using `parse_dates` parameter"
   ]
  },
  {
   "cell_type": "code",
   "execution_count": 3,
   "metadata": {},
   "outputs": [
    {
     "data": {
      "text/plain": [
       "0    2006-11-16\n",
       "1    2004-03-26\n",
       "2    2004-02-26\n",
       "3    2011-05-19\n",
       "4    2009-07-23\n",
       "5    2008-12-18\n",
       "6    2004-08-26\n",
       "7    2005-11-17\n",
       "8    2009-08-27\n",
       "9    2007-08-09\n",
       "10   2008-08-21\n",
       "11   2006-08-24\n",
       "12   2005-10-20\n",
       "13   2006-01-26\n",
       "14   2006-01-03\n",
       "15   2006-11-16\n",
       "16   2007-06-14\n",
       "17   2010-01-28\n",
       "18   2006-03-09\n",
       "19   2005-11-17\n",
       "Name: saledate, dtype: datetime64[ns]"
      ]
     },
     "execution_count": 3,
     "metadata": {},
     "output_type": "execute_result"
    }
   ],
   "source": [
    "#so we load the csv again with parse_dates method\n",
    "data = pd.read_csv('buildozer_data.csv',\n",
    "                  parse_dates=[\"saledate\"])\n",
    "data[\"saledate\"][:20]"
   ]
  },
  {
   "cell_type": "markdown",
   "metadata": {},
   "source": [
    "so now our dates are converted from objects to datetime characters\n",
    "\n",
    "### Now we scatter plot the dates with saleprice"
   ]
  },
  {
   "cell_type": "code",
   "execution_count": 6,
   "metadata": {},
   "outputs": [
    {
     "data": {
      "image/png": "[encoded data removed]",
      "text/plain": [
       "<Figure size 432x288 with 1 Axes>"
      ]
     },
     "metadata": {
      "needs_background": "light"
     },
     "output_type": "display_data"
    }
   ],
   "source": [
    "plt.scatter(data[\"saledate\"][:100],data[\"SalePrice\"][:100]);"
   ]
  },
  {
   "cell_type": "markdown",
   "metadata": {},
   "source": [
    "## Sort dataframe by saledate\n",
    "\n",
    "* when working with time series data, it's a good idea to sort it by date. "
   ]
  },
  {
   "cell_type": "code",
   "execution_count": 5,
   "metadata": {},
   "outputs": [],
   "source": [
    "data.sort_values(by=[\"saledate\"],inplace=True)"
   ]
  },
  {
   "cell_type": "code",
   "execution_count": 8,
   "metadata": {
    "scrolled": true
   },
   "outputs": [
    {
     "data": {
      "text/plain": [
       "4051   2004-01-19\n",
       "243    2004-01-20\n",
       "4035   2004-01-27\n",
       "3150   2004-01-29\n",
       "1275   2004-01-29\n",
       "1720   2004-01-29\n",
       "2799   2004-01-29\n",
       "2771   2004-01-29\n",
       "465    2004-01-29\n",
       "2735   2004-01-29\n",
       "Name: saledate, dtype: datetime64[ns]"
      ]
     },
     "execution_count": 8,
     "metadata": {},
     "output_type": "execute_result"
    }
   ],
   "source": [
    "data[\"saledate\"][:10]"
   ]
  },
  {
   "cell_type": "markdown",
   "metadata": {},
   "source": [
    "## Feature Engineering\n",
    "\n",
    "* The process of enriching our features is called feature engineering.\n",
    "* so here we gonna take our saledate column and split it to year,month,day,day of the week,day of the month to make our machine learning model to understand easily."
   ]
  },
  {
   "cell_type": "code",
   "execution_count": 6,
   "metadata": {},
   "outputs": [],
   "source": [
    "data[\"saleYear\"] = data.saledate.dt.year\n",
    "data[\"saleMonth\"] = data.saledate.dt.month\n",
    "data[\"saleDay\"] = data.saledate.dt.day\n",
    "data[\"saleDayOfWeek\"] = data.saledate.dt.dayofweek\n",
    "data[\"saleDayOfYear\"] = data.saledate.dt.dayofyear"
   ]
  },
  {
   "cell_type": "code",
   "execution_count": 10,
   "metadata": {},
   "outputs": [
    {
     "data": {
      "text/html": [
       "<div>\n",
       "<style scoped>\n",
       "    .dataframe tbody tr th:only-of-type {\n",
       "        vertical-align: middle;\n",
       "    }\n",
       "\n",
       "    .dataframe tbody tr th {\n",
       "        vertical-align: top;\n",
       "    }\n",
       "\n",
       "    .dataframe thead th {\n",
       "        text-align: right;\n",
       "    }\n",
       "</style>\n",
       "<table border=\"1\" class=\"dataframe\">\n",
       "  <thead>\n",
       "    <tr style=\"text-align: right;\">\n",
       "      <th></th>\n",
       "      <th>SalesID</th>\n",
       "      <th>SalePrice</th>\n",
       "      <th>MachineID</th>\n",
       "      <th>ModelID</th>\n",
       "      <th>datasource</th>\n",
       "      <th>auctioneerID</th>\n",
       "      <th>YearMade</th>\n",
       "      <th>MachineHoursCurrentMeter</th>\n",
       "      <th>UsageBand</th>\n",
       "      <th>saledate</th>\n",
       "      <th>...</th>\n",
       "      <th>Backhoe_Mounting</th>\n",
       "      <th>Blade_Type</th>\n",
       "      <th>Travel_Controls</th>\n",
       "      <th>Differential_Type</th>\n",
       "      <th>Steering_Controls</th>\n",
       "      <th>saleYear</th>\n",
       "      <th>saleMonth</th>\n",
       "      <th>saleDay</th>\n",
       "      <th>saleDayOfWeek</th>\n",
       "      <th>saleDayOfYear</th>\n",
       "    </tr>\n",
       "  </thead>\n",
       "  <tbody>\n",
       "    <tr>\n",
       "      <th>4051</th>\n",
       "      <td>1152803</td>\n",
       "      <td>30000</td>\n",
       "      <td>1000789</td>\n",
       "      <td>12263</td>\n",
       "      <td>121</td>\n",
       "      <td>3.0</td>\n",
       "      <td>1998</td>\n",
       "      <td>4302.0</td>\n",
       "      <td>Medium</td>\n",
       "      <td>2004-01-19</td>\n",
       "      <td>...</td>\n",
       "      <td>NaN</td>\n",
       "      <td>NaN</td>\n",
       "      <td>NaN</td>\n",
       "      <td>NaN</td>\n",
       "      <td>NaN</td>\n",
       "      <td>2004</td>\n",
       "      <td>1</td>\n",
       "      <td>19</td>\n",
       "      <td>0</td>\n",
       "      <td>19</td>\n",
       "    </tr>\n",
       "    <tr>\n",
       "      <th>243</th>\n",
       "      <td>1140049</td>\n",
       "      <td>33000</td>\n",
       "      <td>1055591</td>\n",
       "      <td>1956</td>\n",
       "      <td>121</td>\n",
       "      <td>3.0</td>\n",
       "      <td>1995</td>\n",
       "      <td>5468.0</td>\n",
       "      <td>Medium</td>\n",
       "      <td>2004-01-20</td>\n",
       "      <td>...</td>\n",
       "      <td>NaN</td>\n",
       "      <td>NaN</td>\n",
       "      <td>NaN</td>\n",
       "      <td>NaN</td>\n",
       "      <td>NaN</td>\n",
       "      <td>2004</td>\n",
       "      <td>1</td>\n",
       "      <td>20</td>\n",
       "      <td>1</td>\n",
       "      <td>20</td>\n",
       "    </tr>\n",
       "    <tr>\n",
       "      <th>4035</th>\n",
       "      <td>1152749</td>\n",
       "      <td>10000</td>\n",
       "      <td>1005668</td>\n",
       "      <td>4665</td>\n",
       "      <td>121</td>\n",
       "      <td>3.0</td>\n",
       "      <td>1989</td>\n",
       "      <td>6119.0</td>\n",
       "      <td>Low</td>\n",
       "      <td>2004-01-27</td>\n",
       "      <td>...</td>\n",
       "      <td>None or Unspecified</td>\n",
       "      <td>None or Unspecified</td>\n",
       "      <td>None or Unspecified</td>\n",
       "      <td>NaN</td>\n",
       "      <td>NaN</td>\n",
       "      <td>2004</td>\n",
       "      <td>1</td>\n",
       "      <td>27</td>\n",
       "      <td>1</td>\n",
       "      <td>27</td>\n",
       "    </tr>\n",
       "    <tr>\n",
       "      <th>3150</th>\n",
       "      <td>1149834</td>\n",
       "      <td>39000</td>\n",
       "      <td>847793</td>\n",
       "      <td>3542</td>\n",
       "      <td>121</td>\n",
       "      <td>3.0</td>\n",
       "      <td>2001</td>\n",
       "      <td>2129.0</td>\n",
       "      <td>Medium</td>\n",
       "      <td>2004-01-29</td>\n",
       "      <td>...</td>\n",
       "      <td>NaN</td>\n",
       "      <td>NaN</td>\n",
       "      <td>NaN</td>\n",
       "      <td>NaN</td>\n",
       "      <td>NaN</td>\n",
       "      <td>2004</td>\n",
       "      <td>1</td>\n",
       "      <td>29</td>\n",
       "      <td>3</td>\n",
       "      <td>29</td>\n",
       "    </tr>\n",
       "    <tr>\n",
       "      <th>1275</th>\n",
       "      <td>1143543</td>\n",
       "      <td>11750</td>\n",
       "      <td>54985</td>\n",
       "      <td>9551</td>\n",
       "      <td>121</td>\n",
       "      <td>3.0</td>\n",
       "      <td>1999</td>\n",
       "      <td>661.0</td>\n",
       "      <td>Low</td>\n",
       "      <td>2004-01-29</td>\n",
       "      <td>...</td>\n",
       "      <td>NaN</td>\n",
       "      <td>NaN</td>\n",
       "      <td>NaN</td>\n",
       "      <td>NaN</td>\n",
       "      <td>NaN</td>\n",
       "      <td>2004</td>\n",
       "      <td>1</td>\n",
       "      <td>29</td>\n",
       "      <td>3</td>\n",
       "      <td>29</td>\n",
       "    </tr>\n",
       "  </tbody>\n",
       "</table>\n",
       "<p>5 rows × 58 columns</p>\n",
       "</div>"
      ],
      "text/plain": [
       "      SalesID  SalePrice  MachineID  ModelID  datasource  auctioneerID  \\\n",
       "4051  1152803      30000    1000789    12263         121           3.0   \n",
       "243   1140049      33000    1055591     1956         121           3.0   \n",
       "4035  1152749      10000    1005668     4665         121           3.0   \n",
       "3150  1149834      39000     847793     3542         121           3.0   \n",
       "1275  1143543      11750      54985     9551         121           3.0   \n",
       "\n",
       "      YearMade  MachineHoursCurrentMeter UsageBand   saledate  ...  \\\n",
       "4051      1998                    4302.0    Medium 2004-01-19  ...   \n",
       "243       1995                    5468.0    Medium 2004-01-20  ...   \n",
       "4035      1989                    6119.0       Low 2004-01-27  ...   \n",
       "3150      2001                    2129.0    Medium 2004-01-29  ...   \n",
       "1275      1999                     661.0       Low 2004-01-29  ...   \n",
       "\n",
       "         Backhoe_Mounting           Blade_Type      Travel_Controls  \\\n",
       "4051                  NaN                  NaN                  NaN   \n",
       "243                   NaN                  NaN                  NaN   \n",
       "4035  None or Unspecified  None or Unspecified  None or Unspecified   \n",
       "3150                  NaN                  NaN                  NaN   \n",
       "1275                  NaN                  NaN                  NaN   \n",
       "\n",
       "     Differential_Type Steering_Controls saleYear saleMonth saleDay  \\\n",
       "4051               NaN               NaN     2004         1      19   \n",
       "243                NaN               NaN     2004         1      20   \n",
       "4035               NaN               NaN     2004         1      27   \n",
       "3150               NaN               NaN     2004         1      29   \n",
       "1275               NaN               NaN     2004         1      29   \n",
       "\n",
       "     saleDayOfWeek saleDayOfYear  \n",
       "4051             0            19  \n",
       "243              1            20  \n",
       "4035             1            27  \n",
       "3150             3            29  \n",
       "1275             3            29  \n",
       "\n",
       "[5 rows x 58 columns]"
      ]
     },
     "execution_count": 10,
     "metadata": {},
     "output_type": "execute_result"
    }
   ],
   "source": [
    "#now we enriched the datetime field\n",
    "data.head()"
   ]
  },
  {
   "cell_type": "code",
   "execution_count": 7,
   "metadata": {},
   "outputs": [],
   "source": [
    "#so we splitted the saledate feature and added to four different categories,now we can remove saledate column\n",
    "data.drop(\"saledate\",axis=1,inplace=True)"
   ]
  },
  {
   "cell_type": "markdown",
   "metadata": {},
   "source": [
    "### Filling Missing Values\n",
    "\n",
    "* If our dataset has 80% of missing data we can delete mssing data with `dropna()` method, but in our dataset many column has over 60%-90% of missing data.\n",
    "* So to solve this, we can fill categorical columns with 0 and numerical columns with median. "
   ]
  },
  {
   "cell_type": "code",
   "execution_count": 8,
   "metadata": {},
   "outputs": [],
   "source": [
    "#create a copy of our data\n",
    "data_tmp3 = data.copy()"
   ]
  },
  {
   "cell_type": "code",
   "execution_count": 9,
   "metadata": {},
   "outputs": [],
   "source": [
    "#if the column is object fill it with 0\n",
    "for i in data_tmp3.columns:\n",
    "    if data_tmp3[i].dtype == 'object':\n",
    "        data_tmp3[i].fillna(0,inplace=True)"
   ]
  },
  {
   "cell_type": "code",
   "execution_count": 14,
   "metadata": {},
   "outputs": [
    {
     "data": {
      "text/plain": [
       "SalesID                     0\n",
       "SalePrice                   0\n",
       "MachineID                   0\n",
       "ModelID                     0\n",
       "datasource                  0\n",
       "auctioneerID                0\n",
       "YearMade                    0\n",
       "MachineHoursCurrentMeter    0\n",
       "UsageBand                   0\n",
       "fiModelDesc                 0\n",
       "fiBaseModel                 0\n",
       "fiSecondaryDesc             0\n",
       "fiModelSeries               0\n",
       "fiModelDescriptor           0\n",
       "ProductSize                 0\n",
       "fiProductClassDesc          0\n",
       "state                       0\n",
       "ProductGroup                0\n",
       "ProductGroupDesc            0\n",
       "Drive_System                0\n",
       "Enclosure                   0\n",
       "Forks                       0\n",
       "Pad_Type                    0\n",
       "Ride_Control                0\n",
       "Stick                       0\n",
       "Transmission                0\n",
       "Turbocharged                0\n",
       "Blade_Extension             0\n",
       "Blade_Width                 0\n",
       "Enclosure_Type              0\n",
       "Engine_Horsepower           0\n",
       "Hydraulics                  0\n",
       "Pushblock                   0\n",
       "Ripper                      0\n",
       "Scarifier                   0\n",
       "Tip_Control                 0\n",
       "Tire_Size                   0\n",
       "Coupler                     0\n",
       "Coupler_System              0\n",
       "Grouser_Tracks              0\n",
       "Hydraulics_Flow             0\n",
       "Track_Type                  0\n",
       "Undercarriage_Pad_Width     0\n",
       "Stick_Length                0\n",
       "Thumb                       0\n",
       "Pattern_Changer             0\n",
       "Grouser_Type                0\n",
       "Backhoe_Mounting            0\n",
       "Blade_Type                  0\n",
       "Travel_Controls             0\n",
       "Differential_Type           0\n",
       "Steering_Controls           0\n",
       "saleYear                    0\n",
       "saleMonth                   0\n",
       "saleDay                     0\n",
       "saleDayOfWeek               0\n",
       "saleDayOfYear               0\n",
       "dtype: int64"
      ]
     },
     "execution_count": 14,
     "metadata": {},
     "output_type": "execute_result"
    }
   ],
   "source": [
    "#now our dataframe has no missing values\n",
    "data_tmp3.isna().sum()"
   ]
  },
  {
   "cell_type": "markdown",
   "metadata": {},
   "source": [
    "### Converting Data into numbers\n",
    "\n",
    "All machine learning models requires numerical data, so we need to convert non-numerical data into numeric data"
   ]
  },
  {
   "cell_type": "code",
   "execution_count": 10,
   "metadata": {},
   "outputs": [],
   "source": [
    "from sklearn.preprocessing import LabelEncoder\n",
    "\n",
    "encoder = LabelEncoder()\n",
    "\n",
    "for i in data_tmp3.columns:\n",
    "    if data_tmp3[i].dtype == 'object':\n",
    "        data_tmp3[i] = encoder.fit_transform(list(data_tmp3[i]))    "
   ]
  },
  {
   "cell_type": "markdown",
   "metadata": {},
   "source": [
    "### Modeling\n",
    "\n",
    "* So our data cleaning tasks are over now we gonna create a machine learning model"
   ]
  },
  {
   "cell_type": "code",
   "execution_count": 11,
   "metadata": {},
   "outputs": [],
   "source": [
    "x = data_tmp3.drop('SalePrice',axis=1)\n",
    "y = data_tmp3['SalePrice']"
   ]
  },
  {
   "cell_type": "code",
   "execution_count": 16,
   "metadata": {},
   "outputs": [],
   "source": [
    "from sklearn.model_selection import train_test_split\n",
    "\n",
    "x_train,x_test,y_train,y_test = train_test_split(x,y,test_size = 0.2)"
   ]
  },
  {
   "cell_type": "code",
   "execution_count": 17,
   "metadata": {},
   "outputs": [
    {
     "data": {
      "text/plain": [
       "0.8152018948232241"
      ]
     },
     "execution_count": 17,
     "metadata": {},
     "output_type": "execute_result"
    }
   ],
   "source": [
    "from sklearn.ensemble import RandomForestRegressor\n",
    "\n",
    "estimator = RandomForestRegressor()\n",
    "estimator.fit(x_train,y_train)\n",
    "\n",
    "estimator.score(x_test,y_test)"
   ]
  },
  {
   "cell_type": "code",
   "execution_count": 18,
   "metadata": {},
   "outputs": [],
   "source": [
    "y_preds = estimator.predict(x_test)"
   ]
  },
  {
   "cell_type": "markdown",
   "metadata": {},
   "source": [
    "our machine learning model got a good score"
   ]
  },
  {
   "cell_type": "markdown",
   "metadata": {},
   "source": [
    "## Hyper tuning our model"
   ]
  },
  {
   "cell_type": "code",
   "execution_count": 19,
   "metadata": {},
   "outputs": [],
   "source": [
    "#creating a grid for our regressor\n",
    "rf_reg_grid = {'bootstrap': [True, False],\n",
    "               'max_depth': [10, 20, 30, 40, 50, 60, 70, 80, 90, 100, None],\n",
    "               'max_features': ['auto', 'sqrt'],\n",
    "               'min_samples_leaf': [1, 2, 4],\n",
    "               'min_samples_split': [2, 5, 10],\n",
    "               'n_estimators': [200, 400, 600, 800, 1000, 1200, 1400, 1600, 1800, 2000]}"
   ]
  },
  {
   "cell_type": "code",
   "execution_count": 20,
   "metadata": {},
   "outputs": [
    {
     "name": "stdout",
     "output_type": "stream",
     "text": [
      "Fitting 3 folds for each of 20 candidates, totalling 60 fits\n"
     ]
    },
    {
     "name": "stderr",
     "output_type": "stream",
     "text": [
      "[Parallel(n_jobs=-1)]: Using backend LokyBackend with 4 concurrent workers.\n",
      "[Parallel(n_jobs=-1)]: Done  33 tasks      | elapsed:  7.9min\n",
      "[Parallel(n_jobs=-1)]: Done  60 out of  60 | elapsed: 13.5min finished\n"
     ]
    },
    {
     "data": {
      "text/plain": [
       "0.8228401342882176"
      ]
     },
     "execution_count": 20,
     "metadata": {},
     "output_type": "execute_result"
    }
   ],
   "source": [
    "from sklearn.model_selection import RandomizedSearchCV\n",
    "rs_rf_clf = RandomForestRegressor();\n",
    "\n",
    "rf_random = RandomizedSearchCV(estimator = rs_rf_clf, \n",
    "                               param_distributions = rf_reg_grid, \n",
    "                               n_iter = 20, \n",
    "                               cv = 3, \n",
    "                               verbose=2, \n",
    "                               random_state=42,\n",
    "                               n_jobs = -1);\n",
    "# Fit the random search model\n",
    "rf_random.fit(x_train,y_train);\n",
    "rf_random.score(x_test,y_test)"
   ]
  },
  {
   "cell_type": "markdown",
   "metadata": {},
   "source": [
    "after hypertuning our model,it got a good score"
   ]
  },
  {
   "cell_type": "markdown",
   "metadata": {},
   "source": [
    "Our model is ready, it has an accuracy of approximately 82%. which is a good score."
   ]
  },
  {
   "cell_type": "markdown",
   "metadata": {},
   "source": [
    "## Evaluation\n",
    "\n",
    "### cross validation\n",
    "* cross validation is a good way to evaluate our model.\n",
    "* it splits our dataset into five training and test sets and it returns an array of test score,by taking mean and median we can check the whole accuracy of the model."
   ]
  },
  {
   "cell_type": "code",
   "execution_count": 13,
   "metadata": {},
   "outputs": [
    {
     "data": {
      "text/plain": [
       "0.7631420334337515"
      ]
     },
     "execution_count": 13,
     "metadata": {},
     "output_type": "execute_result"
    }
   ],
   "source": [
    "from sklearn.ensemble import RandomForestRegressor\n",
    "from sklearn.model_selection import cross_val_score\n",
    "clf = RandomForestRegressor()\n",
    "\n",
    "cf_score = cross_val_score(clf,x,y,cv=5)\n",
    "np.mean(cf_score)"
   ]
  },
  {
   "cell_type": "code",
   "execution_count": 15,
   "metadata": {},
   "outputs": [
    {
     "data": {
      "text/plain": [
       "0.7667546395064638"
      ]
     },
     "execution_count": 15,
     "metadata": {},
     "output_type": "execute_result"
    }
   ],
   "source": [
    "np.median(cf_score)"
   ]
  }
 ],
 "metadata": {
  "kernelspec": {
   "display_name": "Python 3",
   "language": "python",
   "name": "python3"
  },
  "language_info": {
   "codemirror_mode": {
    "name": "ipython",
    "version": 3
   },
   "file_extension": ".py",
   "mimetype": "text/x-python",
   "name": "python",
   "nbconvert_exporter": "python",
   "pygments_lexer": "ipython3",
   "version": "3.5.6"
  }
 },
 "nbformat": 4,
 "nbformat_minor": 4
}
